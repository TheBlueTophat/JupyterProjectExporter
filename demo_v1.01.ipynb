{
 "cells": [
  {
   "cell_type": "markdown",
   "id": "e127c1ac-58ee-4bfc-b225-af72989335a7",
   "metadata": {},
   "source": [
    "# Title"
   ]
  },
  {
   "cell_type": "markdown",
   "id": "fab95a9f-4c88-4d28-ae65-3479da69d017",
   "metadata": {},
   "source": [
    "**Metadata**: Info."
   ]
  },
  {
   "cell_type": "markdown",
   "id": "8ce81329-106d-49e5-ac79-f4503a668424",
   "metadata": {},
   "source": [
    "## Section 1"
   ]
  },
  {
   "cell_type": "code",
   "execution_count": 2,
   "id": "681bdca0-fa68-456f-90c8-041767bb0aba",
   "metadata": {},
   "outputs": [
    {
     "name": "stdout",
     "output_type": "stream",
     "text": [
      "Hello world, etc.\n",
      "x:10, y:30, z:60\n"
     ]
    }
   ],
   "source": [
    "# Example code cell 1\n",
    "print('Hello world, etc.')\n",
    "x = 10\n",
    "y = 30\n",
    "z = 60\n",
    "print(f\"x:{x}, y:{y}, z:{z}\")"
   ]
  },
  {
   "cell_type": "markdown",
   "id": "bdc5fc70-cd5d-45de-afe2-b091f3df597d",
   "metadata": {},
   "source": [
    "This code cell prints a message, loads some values into a some variables, and then prints the variables with their respective values."
   ]
  },
  {
   "cell_type": "markdown",
   "id": "3d019060-02f3-4df9-9eb8-db2f3f37d8e1",
   "metadata": {},
   "source": [
    "## Section 2"
   ]
  },
  {
   "cell_type": "code",
   "execution_count": 3,
   "id": "a3ebb650-2ec1-4fdc-ae3f-85a749a53838",
   "metadata": {},
   "outputs": [
    {
     "name": "stdout",
     "output_type": "stream",
     "text": [
      "Apple\n",
      "Banana\n",
      "Pear\n",
      "Strawberry\n",
      "Orange\n"
     ]
    }
   ],
   "source": [
    "# Example code cell 2\n",
    "arr = [\"Apple\", \"Banana\", \"Pear\", \"Strawberry\", \"Orange\"]\n",
    "for fruit in arr:\n",
    "    print(fruit)"
   ]
  },
  {
   "cell_type": "markdown",
   "id": "1ed6a979-0e68-49e6-b0ed-9faab2d0e79e",
   "metadata": {},
   "source": [
    "This code cell creates an array of string variables, and then iterates through them and prints them out."
   ]
  },
  {
   "cell_type": "markdown",
   "id": "2ba62e9a-d8a7-4afd-8b04-22385b024ae0",
   "metadata": {},
   "source": [
    "# Conclusion\n",
    "\n",
    "This is the end of the file. Hopefully is all goes well, this will export an output file as you would expect it to."
   ]
  }
 ],
 "metadata": {
  "kernelspec": {
   "display_name": "Python 3",
   "language": "python",
   "name": "python3"
  },
  "language_info": {
   "codemirror_mode": {
    "name": "ipython",
    "version": 3
   },
   "file_extension": ".py",
   "mimetype": "text/x-python",
   "name": "python",
   "nbconvert_exporter": "python",
   "pygments_lexer": "ipython3",
   "version": "3.9.6"
  }
 },
 "nbformat": 4,
 "nbformat_minor": 5
}
